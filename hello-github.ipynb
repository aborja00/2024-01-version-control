{
 "cells": [
  {
   "cell_type": "code",
   "execution_count": 4,
   "id": "f6385860",
   "metadata": {},
   "outputs": [],
   "source": [
    "monthly_rent = 500\n",
    "monthly_income= 1_200\n",
    "food = 300\n"
   ]
  },
  {
   "cell_type": "code",
   "execution_count": 7,
   "id": "57dde4fc",
   "metadata": {},
   "outputs": [
    {
     "data": {
      "text/plain": [
       "400"
      ]
     },
     "execution_count": 7,
     "metadata": {},
     "output_type": "execute_result"
    }
   ],
   "source": [
    "balance = monthly_income - monthly_rent - food\n",
    "balance"
   ]
  },
  {
   "cell_type": "code",
   "execution_count": null,
   "id": "23be114c",
   "metadata": {},
   "outputs": [],
   "source": []
  }
 ],
 "metadata": {
  "kernelspec": {
   "display_name": "Python 3 (ipykernel)",
   "language": "python",
   "name": "python3"
  },
  "language_info": {
   "codemirror_mode": {
    "name": "ipython",
    "version": 3
   },
   "file_extension": ".py",
   "mimetype": "text/x-python",
   "name": "python",
   "nbconvert_exporter": "python",
   "pygments_lexer": "ipython3",
   "version": "3.11.5"
  }
 },
 "nbformat": 4,
 "nbformat_minor": 5
}
